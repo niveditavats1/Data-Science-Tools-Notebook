{
  "metadata": {
    "kernelspec": {
      "name": "python",
      "display_name": "Python (Pyodide)",
      "language": "python"
    },
    "language_info": {
      "codemirror_mode": {
        "name": "python",
        "version": 3
      },
      "file_extension": ".py",
      "mimetype": "text/x-python",
      "name": "python",
      "nbconvert_exporter": "python",
      "pygments_lexer": "ipython3",
      "version": "3.8"
    }
  },
  "nbformat_minor": 4,
  "nbformat": 4,
  "cells": [
    {
      "cell_type": "markdown",
      "source": "# Exercise 2 - Create a markdown cell with the title of the notebook",
      "metadata": {}
    },
    {
      "cell_type": "markdown",
      "source": "### My Data Science Tools Notebook\n",
      "metadata": {}
    },
    {
      "cell_type": "markdown",
      "source": "# Exercise 3 - Create a markdown cell for an introduction ",
      "metadata": {}
    },
    {
      "cell_type": "markdown",
      "source": "## Introduction\nThis notebook provides an overview of various data science tools, languages, and libraries. It also includes examples of basic arithmetic operations and data manipulations.\n",
      "metadata": {}
    },
    {
      "cell_type": "markdown",
      "source": "# Exercise 4 - Create a markdown cell to list data science languages",
      "metadata": {}
    },
    {
      "cell_type": "markdown",
      "source": " ## Data Science Languages\n- Python\n- R\n- SQL\n- Julia\n- Scala\n",
      "metadata": {}
    },
    {
      "cell_type": "markdown",
      "source": "# Exercise 5 - Create a markdown cell to list data science libraries",
      "metadata": {}
    },
    {
      "cell_type": "markdown",
      "source": "## Data Science Libraries\n- Pandas\n- NumPy\n- Matplotlib\n- Scikit-learn\n- TensorFlow\n- Keras\n- ggplot2\n- dplyr\n- caret\n",
      "metadata": {}
    },
    {
      "cell_type": "markdown",
      "source": "# Exercise 6 - Create a markdown cell with a table of Data Science tools",
      "metadata": {}
    },
    {
      "cell_type": "markdown",
      "source": "## Data Science Tools\n| Tool | Description |\n|------|-------------|\n| Jupyter | Interactive computing environment |\n| RStudio | IDE for R |\n| Apache Spark | Big data processing framework |\n| TensorFlow | Deep learning framework |\n| GitHub | Version control and collaboration |\n",
      "metadata": {}
    },
    {
      "cell_type": "code",
      "source": "",
      "metadata": {
        "trusted": true
      },
      "outputs": [],
      "execution_count": null
    },
    {
      "cell_type": "markdown",
      "source": "# Exercise 7 - Create a markdown cell introducing arithmetic expression examples",
      "metadata": {}
    },
    {
      "cell_type": "markdown",
      "source": "## Arithmetic Expression Examples\nBelow are examples of basic arithmetic operations such as addition, subtraction, multiplication, and division.\n",
      "metadata": {}
    },
    {
      "cell_type": "markdown",
      "source": "# Exercise 8 - Create a code cell to multiply and add numbers",
      "metadata": {}
    },
    {
      "cell_type": "code",
      "source": "# Multiplication and addition example\na = 5\nb = 3\nresult = (a * b) + a\nresult\n",
      "metadata": {
        "trusted": true
      },
      "outputs": [
        {
          "execution_count": 4,
          "output_type": "execute_result",
          "data": {
            "text/plain": "20"
          },
          "metadata": {}
        }
      ],
      "execution_count": 4
    },
    {
      "cell_type": "markdown",
      "source": "# Exercise 9 - Create a code cell to convert minutes to hours",
      "metadata": {}
    },
    {
      "cell_type": "code",
      "source": "# Convert minutes to hours\nminutes = 150\nhours = minutes / 60\nhours\n",
      "metadata": {
        "trusted": true
      },
      "outputs": [
        {
          "execution_count": 5,
          "output_type": "execute_result",
          "data": {
            "text/plain": "2.5"
          },
          "metadata": {}
        }
      ],
      "execution_count": 5
    },
    {
      "cell_type": "markdown",
      "source": "# Exercise 10 - Insert a markdown cell to list Objectives",
      "metadata": {}
    },
    {
      "cell_type": "markdown",
      "source": "## Objectives\n- Understand various data science tools and languages\n- Learn about popular data science libraries\n- Perform basic arithmetic operations\n- Convert time units from minutes to hours\n",
      "metadata": {}
    },
    {
      "cell_type": "markdown",
      "source": "# Exercise 11 - Create a markdown cell to indicate the Author’s name",
      "metadata": {}
    },
    {
      "cell_type": "markdown",
      "source": "## Author\nNivedita Vats\n",
      "metadata": {}
    },
    {
      "cell_type": "code",
      "source": "",
      "metadata": {
        "trusted": true
      },
      "outputs": [],
      "execution_count": null
    }
  ]
}